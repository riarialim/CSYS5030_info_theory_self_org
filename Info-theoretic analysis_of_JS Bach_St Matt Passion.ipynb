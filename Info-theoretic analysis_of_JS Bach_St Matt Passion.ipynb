{
  "nbformat": 4,
  "nbformat_minor": 0,
  "metadata": {
    "colab": {
      "name": "CSYS5030_500386873.ipynb",
      "provenance": [],
      "collapsed_sections": [
        "BeiwNBm6LeyX",
        "0Q92trq2VmT0",
        "JQRFo91vL-vM",
        "GXfqqYbTURh2",
        "5dVXjtRfB8WY"
      ],
      "toc_visible": true
    },
    "kernelspec": {
      "name": "python3",
      "display_name": "Python 3"
    }
  },
  "cells": [
    {
      "cell_type": "code",
      "metadata": {
        "id": "wk5CQsnMp5eS",
        "colab": {
          "base_uri": "https://localhost:8080/"
        },
        "outputId": "f2af6645-af04-4d05-ff39-5e6b62d825b6"
      },
      "source": [
        "from google.colab import drive\n",
        "drive.mount('/content/drive')"
      ],
      "execution_count": null,
      "outputs": [
        {
          "output_type": "stream",
          "text": [
            "Mounted at /content/drive\n"
          ],
          "name": "stdout"
        }
      ]
    },
    {
      "cell_type": "markdown",
      "metadata": {
        "id": "VFkkPYAe60nQ"
      },
      "source": [
        "# Imports"
      ]
    },
    {
      "cell_type": "code",
      "metadata": {
        "id": "HUast--TOuRA"
      },
      "source": [
        "from itertools import groupby\n",
        "import music21 as m21\n",
        "import pandas as pd\n",
        "import numpy as np\n",
        "import csv"
      ],
      "execution_count": null,
      "outputs": []
    },
    {
      "cell_type": "markdown",
      "metadata": {
        "id": "B5eZT3O5glct"
      },
      "source": [
        "# List of movements of St Matthew Passion"
      ]
    },
    {
      "cell_type": "code",
      "metadata": {
        "id": "PiXNDAtRiO6J"
      },
      "source": [
        "\n",
        "bwv244_list = ['bach/bwv244.3.mxl','bach/bwv244.10.mxl','bach/bwv244.15.mxl','bach/bwv244.17.mxl',\\\n",
        "               'bach/bwv244.25.mxl','bach/bwv244.29-a.mxl','bach/bwv244.32.mxl','bach/bwv244.37.mxl',\\\n",
        "               'bach/bwv244.40.mxl','bach/bwv244.44.mxl','bach/bwv244.46.mxl',\\\n",
        "               'bach/bwv244.54.mxl','bach/bwv244.62.mxl']"
      ],
      "execution_count": null,
      "outputs": []
    },
    {
      "cell_type": "markdown",
      "metadata": {
        "id": "XoKiMlps6L-X"
      },
      "source": [
        "# Important function"
      ]
    },
    {
      "cell_type": "code",
      "metadata": {
        "id": "ZxVd68lCif7Q"
      },
      "source": [
        "### Code adapted from \n",
        "### https://colab.research.google.com/github/cpmpercussion/creative-prediction/blob/master/notebooks/3-zeldic-musical-RNN.ipynb\n",
        "### It is modified to have transpose function\n",
        "\n",
        "MELODY_NOTE_OFF = 128 # (stop playing all previous notes)\n",
        "MELODY_NO_EVENT = 129 # (no change from previous event)\n",
        "def streamToNoteArray(stream, transpose=False):\n",
        "    \"\"\"\n",
        "    Convert a Music21 sequence to a numpy array of int8s into Melody-RNN format:\n",
        "        0-127 - note on at specified pitch\n",
        "        128   - note off\n",
        "        129   - no event\n",
        "    \"\"\"\n",
        "    # Part 0, transpose the notes\n",
        "    if transpose:\n",
        "      k = stream.analyze('key')\n",
        "      # print(\"Expected key: \",k)\n",
        "      # print(\"Alternative key(s):\")\n",
        "      # for analysis in k.alternateInterpretations:\n",
        "      #   if (analysis.correlationCoefficient > 0.5):\n",
        "      #       print(analysis)\n",
        "      i = m21.interval.Interval(k.tonic, m21.pitch.Pitch('D'))\n",
        "      stream = stream.transpose(i)\n",
        "\n",
        "    # Part one, extract from stream\n",
        "    total_length = np.int(np.round(stream.flat.highestTime / 0.25)) # in semiquavers\n",
        "    stream_list = []\n",
        "    for element in stream.flat:\n",
        "        if isinstance(element, m21.note.Note):\n",
        "            stream_list.append([np.round(element.offset / 0.25), np.round(element.quarterLength / 0.25), element.pitch.midi])\n",
        "        elif isinstance(element, m21.chord.Chord):\n",
        "            stream_list.append([np.round(element.offset / 0.25), np.round(element.quarterLength / 0.25), element.sortAscending().pitches[-1].midi])\n",
        "    np_stream_list = np.array(stream_list, dtype=np.int)\n",
        "    df = pd.DataFrame({'pos': np_stream_list.T[0], 'dur': np_stream_list.T[1], 'pitch': np_stream_list.T[2]})\n",
        "    df = df.sort_values(['pos','pitch'], ascending=[True, False]) # sort the dataframe properly\n",
        "    df = df.drop_duplicates(subset=['pos']) # drop duplicate values\n",
        "    # part 2, convert into a sequence of note events\n",
        "    output = np.zeros(total_length+1, dtype=np.int16) + np.int16(MELODY_NO_EVENT)  # set array full of no events by default.\n",
        "    # Fill in the output list\n",
        "    for i in range(total_length):\n",
        "        if not df[df.pos==i].empty:\n",
        "            n = df[df.pos==i].iloc[0] # pick the highest pitch at each semiquaver\n",
        "            output[i] = n.pitch # set note on\n",
        "            output[i+n.dur] = MELODY_NOTE_OFF\n",
        "    return output"
      ],
      "execution_count": null,
      "outputs": []
    },
    {
      "cell_type": "markdown",
      "metadata": {
        "id": "EE4T1YvbsCqE"
      },
      "source": [
        "# Original sequence extracting"
      ]
    },
    {
      "cell_type": "markdown",
      "metadata": {
        "id": "m-a0vSUT7FlA"
      },
      "source": [
        "## Soprano"
      ]
    },
    {
      "cell_type": "code",
      "metadata": {
        "colab": {
          "base_uri": "https://localhost:8080/"
        },
        "id": "9q7ArLc0i-sx",
        "outputId": "2f7fbdf7-a550-450f-bdd0-c5c2001c3bb9"
      },
      "source": [
        "# Get a list of pitch arrays\n",
        "bwv244_sop_pitch_arrays = []\n",
        "for bwv_part in bwv244_list:\n",
        "  piece = m21.corpus.parse(bwv_part)\n",
        "  sop = piece.parts[0]\n",
        "  pitch_array = streamToNoteArray(sop)\n",
        "  bwv244_sop_pitch_arrays.append(pitch_array)\n",
        "\n",
        "# Check the length of each part in the list\n",
        "for i in bwv244_sop_pitch_arrays:\n",
        "  print(i.shape)\n",
        "\n",
        "# Concatenate the arrays into one and get some info about the array\n",
        "bwv244_sop_pitch_whole = np.concatenate(np.array(bwv244_sop_pitch_arrays))\n",
        "print(\"Number of notes:\")\n",
        "print(bwv244_sop_pitch_whole.shape)\n",
        "bwv244_sop_pitch_whole_df = pd.DataFrame(bwv244_sop_pitch_whole)\n",
        "print(\"Notes that do appear:\")\n",
        "unique_sop, counts_sop = np.unique(bwv244_sop_pitch_whole, return_counts=True)\n",
        "print(unique_sop)\n",
        "print(\"with occurence:\")\n",
        "print(counts_sop)\n",
        "print(\"Notes that don't appear:\")\n",
        "print(np.setdiff1d(np.arange(0,129),unique_sop))"
      ],
      "execution_count": null,
      "outputs": [
        {
          "output_type": "stream",
          "text": [
            "(177,)\n",
            "(193,)\n",
            "(193,)\n",
            "(257,)\n",
            "(193,)\n",
            "(209,)\n",
            "(177,)\n",
            "(193,)\n",
            "(257,)\n",
            "(193,)\n",
            "(177,)\n",
            "(193,)\n",
            "(193,)\n",
            "Number of notes:\n",
            "(2605,)\n",
            "Notes that do appear:\n",
            "[ 60  62  63  64  65  66  67  68  69  70  71  72  73  74  75  76  77  78\n",
            "  79 128 129]\n",
            "with occurence:\n",
            "[   2    2    2   16   14   26   45   19   70   37   75   57   72   95\n",
            "   31   42   15   13    7   13 1952]\n",
            "Notes that don't appear:\n",
            "[  0   1   2   3   4   5   6   7   8   9  10  11  12  13  14  15  16  17\n",
            "  18  19  20  21  22  23  24  25  26  27  28  29  30  31  32  33  34  35\n",
            "  36  37  38  39  40  41  42  43  44  45  46  47  48  49  50  51  52  53\n",
            "  54  55  56  57  58  59  61  80  81  82  83  84  85  86  87  88  89  90\n",
            "  91  92  93  94  95  96  97  98  99 100 101 102 103 104 105 106 107 108\n",
            " 109 110 111 112 113 114 115 116 117 118 119 120 121 122 123 124 125 126\n",
            " 127]\n"
          ],
          "name": "stdout"
        }
      ]
    },
    {
      "cell_type": "markdown",
      "metadata": {
        "id": "jeCxJmeYmxlF"
      },
      "source": [
        "## Alto"
      ]
    },
    {
      "cell_type": "code",
      "metadata": {
        "colab": {
          "base_uri": "https://localhost:8080/"
        },
        "id": "IAmrl78lmxb7",
        "outputId": "fe455a6d-9a35-4937-a5a3-6d033cf0b65e"
      },
      "source": [
        "bwv244_alto_pitch_arrays = []\n",
        "for bwv_part in bwv244_list:\n",
        "  piece = m21.corpus.parse(bwv_part)\n",
        "  alto = piece.parts[1]\n",
        "  pitch_array = streamToNoteArray(alto)\n",
        "  bwv244_alto_pitch_arrays.append(pitch_array)\n",
        "\n",
        "for i in bwv244_alto_pitch_arrays:\n",
        "  print(i.shape)\n",
        "\n",
        "bwv244_alto_pitch_whole = np.concatenate(np.array(bwv244_alto_pitch_arrays))\n",
        "print(\"Number of notes:\")\n",
        "print(bwv244_alto_pitch_whole.shape)\n",
        "bwv244_alto_pitch_whole_df = pd.DataFrame(bwv244_alto_pitch_whole)\n",
        "print(\"Notes that do appear:\")\n",
        "unique_alto, counts_alto = np.unique(bwv244_alto_pitch_whole, return_counts=True)\n",
        "print(unique_alto)\n",
        "print(\"with occurence:\")\n",
        "print(counts_alto)\n",
        "print(\"Notes that don't appear:\")\n",
        "print(np.setdiff1d(np.arange(0,129),unique_alto))"
      ],
      "execution_count": null,
      "outputs": [
        {
          "output_type": "stream",
          "text": [
            "(177,)\n",
            "(193,)\n",
            "(193,)\n",
            "(257,)\n",
            "(193,)\n",
            "(209,)\n",
            "(177,)\n",
            "(193,)\n",
            "(257,)\n",
            "(193,)\n",
            "(177,)\n",
            "(193,)\n",
            "(193,)\n",
            "Number of notes:\n",
            "(2605,)\n",
            "Notes that do appear:\n",
            "[ 55  57  58  59  60  61  62  63  64  65  66  67  68  69  70  71  72  73\n",
            "  74 128 129]\n",
            "with occurence:\n",
            "[   1    2    2   10   25   15   71   53   99   73  100   77   60   75\n",
            "   22   35   11    3    1   13 1857]\n",
            "Notes that don't appear:\n",
            "[  0   1   2   3   4   5   6   7   8   9  10  11  12  13  14  15  16  17\n",
            "  18  19  20  21  22  23  24  25  26  27  28  29  30  31  32  33  34  35\n",
            "  36  37  38  39  40  41  42  43  44  45  46  47  48  49  50  51  52  53\n",
            "  54  56  75  76  77  78  79  80  81  82  83  84  85  86  87  88  89  90\n",
            "  91  92  93  94  95  96  97  98  99 100 101 102 103 104 105 106 107 108\n",
            " 109 110 111 112 113 114 115 116 117 118 119 120 121 122 123 124 125 126\n",
            " 127]\n"
          ],
          "name": "stdout"
        }
      ]
    },
    {
      "cell_type": "markdown",
      "metadata": {
        "id": "zwD2ALJ6nVlF"
      },
      "source": [
        "## Tenor"
      ]
    },
    {
      "cell_type": "code",
      "metadata": {
        "colab": {
          "base_uri": "https://localhost:8080/"
        },
        "id": "gqP_m3VnnVXN",
        "outputId": "ad6df744-884a-4037-978f-389373ea7a3f"
      },
      "source": [
        "bwv244_tenor_pitch_arrays = []\n",
        "for bwv_part in bwv244_list:\n",
        "  piece = m21.corpus.parse(bwv_part)\n",
        "  tenor = piece.parts[2]\n",
        "  pitch_array = streamToNoteArray(tenor)\n",
        "  bwv244_tenor_pitch_arrays.append(pitch_array)\n",
        "\n",
        "for i in bwv244_tenor_pitch_arrays:\n",
        "  print(i.shape)\n",
        "\n",
        "bwv244_tenor_pitch_whole = np.concatenate(np.array(bwv244_tenor_pitch_arrays))\n",
        "print(\"Number of notes:\")\n",
        "print(bwv244_tenor_pitch_whole.shape)\n",
        "bwv244_tenor_pitch_whole_df = pd.DataFrame(bwv244_tenor_pitch_whole)\n",
        "print(\"Notes that do appear:\")\n",
        "unique_tenor, counts_tenor = np.unique(bwv244_tenor_pitch_whole, return_counts=True)\n",
        "print(unique_tenor)\n",
        "print(\"with occurence:\")\n",
        "print(counts_tenor)\n",
        "print(\"Notes that don't appear:\")\n",
        "print(np.setdiff1d(np.arange(0,129),unique_tenor))"
      ],
      "execution_count": null,
      "outputs": [
        {
          "output_type": "stream",
          "text": [
            "(177,)\n",
            "(193,)\n",
            "(193,)\n",
            "(257,)\n",
            "(193,)\n",
            "(209,)\n",
            "(177,)\n",
            "(193,)\n",
            "(257,)\n",
            "(193,)\n",
            "(177,)\n",
            "(193,)\n",
            "(193,)\n",
            "Number of notes:\n",
            "(2605,)\n",
            "Notes that do appear:\n",
            "[ 51  52  53  54  55  56  57  58  59  60  61  62  63  64  65  66  67  68\n",
            "  69 128 129]\n",
            "with occurence:\n",
            "[   1    5   14   12   45   31   94   76   90   77   71   93   29   59\n",
            "   20   26   13    3    2   13 1831]\n",
            "Notes that don't appear:\n",
            "[  0   1   2   3   4   5   6   7   8   9  10  11  12  13  14  15  16  17\n",
            "  18  19  20  21  22  23  24  25  26  27  28  29  30  31  32  33  34  35\n",
            "  36  37  38  39  40  41  42  43  44  45  46  47  48  49  50  70  71  72\n",
            "  73  74  75  76  77  78  79  80  81  82  83  84  85  86  87  88  89  90\n",
            "  91  92  93  94  95  96  97  98  99 100 101 102 103 104 105 106 107 108\n",
            " 109 110 111 112 113 114 115 116 117 118 119 120 121 122 123 124 125 126\n",
            " 127]\n"
          ],
          "name": "stdout"
        }
      ]
    },
    {
      "cell_type": "markdown",
      "metadata": {
        "id": "NwwSgJ1lnwAR"
      },
      "source": [
        "## Bass"
      ]
    },
    {
      "cell_type": "code",
      "metadata": {
        "colab": {
          "base_uri": "https://localhost:8080/"
        },
        "id": "syrkrwN0nvw9",
        "outputId": "3b9ba792-4495-444a-dedd-9f610c0844c0"
      },
      "source": [
        "bwv244_bass_pitch_arrays = []\n",
        "for bwv_part in bwv244_list:\n",
        "  piece = m21.corpus.parse(bwv_part)\n",
        "  bass = piece.parts[3]\n",
        "  pitch_array = streamToNoteArray(bass)\n",
        "  bwv244_bass_pitch_arrays.append(pitch_array)\n",
        "\n",
        "for i in bwv244_bass_pitch_arrays:\n",
        "  print(i.shape)\n",
        "\n",
        "bwv244_bass_pitch_whole = np.concatenate(np.array(bwv244_bass_pitch_arrays))\n",
        "print(\"Number of notes:\")\n",
        "print(bwv244_bass_pitch_whole.shape)\n",
        "bwv244_bass_pitch_whole_df = pd.DataFrame(bwv244_bass_pitch_whole)\n",
        "print(\"Notes that do appear:\")\n",
        "unique_bass, counts_bass = np.unique(bwv244_bass_pitch_whole, return_counts=True)\n",
        "print(unique_bass)\n",
        "print(\"with occurence:\")\n",
        "print(counts_bass)\n",
        "print(\"Notes that don't appear:\")\n",
        "print(np.setdiff1d(np.arange(0,129),unique_bass))"
      ],
      "execution_count": null,
      "outputs": [
        {
          "output_type": "stream",
          "text": [
            "(177,)\n",
            "(193,)\n",
            "(193,)\n",
            "(257,)\n",
            "(193,)\n",
            "(209,)\n",
            "(177,)\n",
            "(193,)\n",
            "(257,)\n",
            "(193,)\n",
            "(177,)\n",
            "(193,)\n",
            "(193,)\n",
            "Number of notes:\n",
            "(2605,)\n",
            "Notes that do appear:\n",
            "[ 38  40  41  42  43  44  45  46  47  48  49  50  51  52  53  54  55  56\n",
            "  57  58  59  60  61  62  63  64 128 129]\n",
            "with occurence:\n",
            "[   1    2    2    4   11    9   29   22   34   35   34   70   38   76\n",
            "   48   72   64   44   62   20   36   10    6    5    1    1   13 1856]\n",
            "Notes that don't appear:\n",
            "[  0   1   2   3   4   5   6   7   8   9  10  11  12  13  14  15  16  17\n",
            "  18  19  20  21  22  23  24  25  26  27  28  29  30  31  32  33  34  35\n",
            "  36  37  39  65  66  67  68  69  70  71  72  73  74  75  76  77  78  79\n",
            "  80  81  82  83  84  85  86  87  88  89  90  91  92  93  94  95  96  97\n",
            "  98  99 100 101 102 103 104 105 106 107 108 109 110 111 112 113 114 115\n",
            " 116 117 118 119 120 121 122 123 124 125 126 127]\n"
          ],
          "name": "stdout"
        }
      ]
    },
    {
      "cell_type": "markdown",
      "metadata": {
        "id": "blz-FUPxoSbs"
      },
      "source": [
        "## whole analysis"
      ]
    },
    {
      "cell_type": "code",
      "metadata": {
        "colab": {
          "base_uri": "https://localhost:8080/"
        },
        "id": "_3Eh0yDNoSPw",
        "outputId": "ad914594-71b7-4977-95ca-5482360740bc"
      },
      "source": [
        "# Pool all together to check the distribution of pitches\n",
        "all_notes = np.concatenate((bwv244_sop_pitch_whole,bwv244_alto_pitch_whole, \\\n",
        "                            bwv244_tenor_pitch_whole, bwv244_bass_pitch_whole))\n",
        "print(\"Number of notes:\")\n",
        "print(all_notes.shape)\n",
        "all_notes_df = pd.DataFrame(all_notes)\n",
        "print(\"Notes that do appear:\")\n",
        "unique, counts = np.unique(all_notes, return_counts=True)\n",
        "print(unique)\n",
        "print(\"with occurence:\")\n",
        "print(counts)\n",
        "print(\"Notes that don't appear:\")\n",
        "print(np.setdiff1d(np.arange(0,129),unique))"
      ],
      "execution_count": null,
      "outputs": [
        {
          "output_type": "stream",
          "text": [
            "Number of notes:\n",
            "(10420,)\n",
            "Notes that do appear:\n",
            "[ 38  40  41  42  43  44  45  46  47  48  49  50  51  52  53  54  55  56\n",
            "  57  58  59  60  61  62  63  64  65  66  67  68  69  70  71  72  73  74\n",
            "  75  76  77  78  79 128 129]\n",
            "with occurence:\n",
            "[   1    2    2    4   11    9   29   22   34   35   34   70   39   81\n",
            "   62   84  110   75  158   98  136  114   92  171   85  175  107  152\n",
            "  135   82  147   59  110   68   75   96   31   42   15   13    7   52\n",
            " 7496]\n",
            "Notes that don't appear:\n",
            "[  0   1   2   3   4   5   6   7   8   9  10  11  12  13  14  15  16  17\n",
            "  18  19  20  21  22  23  24  25  26  27  28  29  30  31  32  33  34  35\n",
            "  36  37  39  80  81  82  83  84  85  86  87  88  89  90  91  92  93  94\n",
            "  95  96  97  98  99 100 101 102 103 104 105 106 107 108 109 110 111 112\n",
            " 113 114 115 116 117 118 119 120 121 122 123 124 125 126 127]\n"
          ],
          "name": "stdout"
        }
      ]
    },
    {
      "cell_type": "code",
      "metadata": {
        "colab": {
          "base_uri": "https://localhost:8080/",
          "height": 331
        },
        "id": "VuwL_pnAxDCs",
        "outputId": "6601da6e-3c8b-4638-e7ee-f860f7713a33"
      },
      "source": [
        "print(\"Plot the relative occurences of each note:\")\n",
        "import matplotlib.pyplot as plt\n",
        "%matplotlib inline\n",
        "\n",
        "#plt.style.use('dark_background')\n",
        "plt.bar(unique, counts)\n",
        "plt.yscale('log')\n",
        "plt.xlabel('melody in midi number')\n",
        "plt.ylabel('occurences (log scale)')\n",
        "plt.title('Original')"
      ],
      "execution_count": null,
      "outputs": [
        {
          "output_type": "stream",
          "text": [
            "Plot the relative occurences of each note:\n"
          ],
          "name": "stdout"
        },
        {
          "output_type": "execute_result",
          "data": {
            "text/plain": [
              "Text(0.5, 1.0, 'Original')"
            ]
          },
          "metadata": {
            "tags": []
          },
          "execution_count": 57
        },
        {
          "output_type": "display_data",
          "data": {
            "image/png": "[encoded data removed]",
            "text/plain": [
              "<Figure size 432x288 with 1 Axes>"
            ]
          },
          "metadata": {
            "tags": [],
            "image/png": {
              "width": 387,
              "height": 277
            },
            "needs_background": "light"
          }
        }
      ]
    },
    {
      "cell_type": "code",
      "metadata": {
        "id": "oEZsPBvfpvhK"
      },
      "source": [
        "pitch_original = unique.tolist()\n",
        "pitch_sym = [i for i in range(len(unique))]\n",
        "sym_dict = dict(zip(pitch_original, pitch_sym))"
      ],
      "execution_count": null,
      "outputs": []
    },
    {
      "cell_type": "code",
      "metadata": {
        "colab": {
          "base_uri": "https://localhost:8080/"
        },
        "id": "rBH6KDj6sGGf",
        "outputId": "56f50508-84f7-4c01-9472-ab14c526ceaa"
      },
      "source": [
        "sym_dict"
      ],
      "execution_count": null,
      "outputs": [
        {
          "output_type": "execute_result",
          "data": {
            "text/plain": [
              "{38: 0,\n",
              " 40: 1,\n",
              " 41: 2,\n",
              " 42: 3,\n",
              " 43: 4,\n",
              " 44: 5,\n",
              " 45: 6,\n",
              " 46: 7,\n",
              " 47: 8,\n",
              " 48: 9,\n",
              " 49: 10,\n",
              " 50: 11,\n",
              " 51: 12,\n",
              " 52: 13,\n",
              " 53: 14,\n",
              " 54: 15,\n",
              " 55: 16,\n",
              " 56: 17,\n",
              " 57: 18,\n",
              " 58: 19,\n",
              " 59: 20,\n",
              " 60: 21,\n",
              " 61: 22,\n",
              " 62: 23,\n",
              " 63: 24,\n",
              " 64: 25,\n",
              " 65: 26,\n",
              " 66: 27,\n",
              " 67: 28,\n",
              " 68: 29,\n",
              " 69: 30,\n",
              " 70: 31,\n",
              " 71: 32,\n",
              " 72: 33,\n",
              " 73: 34,\n",
              " 74: 35,\n",
              " 75: 36,\n",
              " 76: 37,\n",
              " 77: 38,\n",
              " 78: 39,\n",
              " 79: 40,\n",
              " 128: 41,\n",
              " 129: 42}"
            ]
          },
          "metadata": {
            "tags": []
          },
          "execution_count": 59
        }
      ]
    },
    {
      "cell_type": "code",
      "metadata": {
        "id": "4sBtpPRcfzUA"
      },
      "source": [
        "# 51-59, 60-71, 71-79, 128, 129\n",
        "note_sym = [2]+[i for i in range(4,12)]+[i for i in range(12)]+[i for i in range(12)]+[i for i in range(8)]+[12,13]\n",
        "note_dict = dict(zip(pitch_original, note_sym))"
      ],
      "execution_count": null,
      "outputs": []
    },
    {
      "cell_type": "code",
      "metadata": {
        "colab": {
          "base_uri": "https://localhost:8080/"
        },
        "id": "r3N5NhswiR18",
        "outputId": "197b768d-d590-4897-ece2-297cfe8d036b"
      },
      "source": [
        "note_dict"
      ],
      "execution_count": null,
      "outputs": [
        {
          "output_type": "execute_result",
          "data": {
            "text/plain": [
              "{38: 2,\n",
              " 40: 4,\n",
              " 41: 5,\n",
              " 42: 6,\n",
              " 43: 7,\n",
              " 44: 8,\n",
              " 45: 9,\n",
              " 46: 10,\n",
              " 47: 11,\n",
              " 48: 0,\n",
              " 49: 1,\n",
              " 50: 2,\n",
              " 51: 3,\n",
              " 52: 4,\n",
              " 53: 5,\n",
              " 54: 6,\n",
              " 55: 7,\n",
              " 56: 8,\n",
              " 57: 9,\n",
              " 58: 10,\n",
              " 59: 11,\n",
              " 60: 0,\n",
              " 61: 1,\n",
              " 62: 2,\n",
              " 63: 3,\n",
              " 64: 4,\n",
              " 65: 5,\n",
              " 66: 6,\n",
              " 67: 7,\n",
              " 68: 8,\n",
              " 69: 9,\n",
              " 70: 10,\n",
              " 71: 11,\n",
              " 72: 0,\n",
              " 73: 1,\n",
              " 74: 2,\n",
              " 75: 3,\n",
              " 76: 4,\n",
              " 77: 5,\n",
              " 78: 6,\n",
              " 79: 7,\n",
              " 128: 12,\n",
              " 129: 13}"
            ]
          },
          "metadata": {
            "tags": []
          },
          "execution_count": 61
        }
      ]
    },
    {
      "cell_type": "code",
      "metadata": {
        "id": "L4SY41k4saEn"
      },
      "source": [
        "# Downsize the symbol so that only count the pitches that appear\n",
        "pitch_series1 = list(map(sym_dict.get, bwv244_sop_pitch_whole))\n",
        "pitch_series2 = list(map(sym_dict.get, bwv244_alto_pitch_whole))\n",
        "pitch_series3 = list(map(sym_dict.get, bwv244_tenor_pitch_whole))\n",
        "pitch_series4 = list(map(sym_dict.get, bwv244_bass_pitch_whole))\n",
        "\n",
        "# Write the 4 variables into one single csv\n",
        "with open('bwv244.csv', mode='w') as csv_file:\n",
        "  writer = csv.writer(csv_file, delimiter=',', quotechar='\"', quoting=csv.QUOTE_MINIMAL)\n",
        "\n",
        "  for i in range(len(pitch_series1)):\n",
        "    writer.writerow([pitch_series1[i],pitch_series2[i],pitch_series3[i],pitch_series4[i]])"
      ],
      "execution_count": null,
      "outputs": []
    },
    {
      "cell_type": "code",
      "metadata": {
        "id": "nUCk1UjJevrz"
      },
      "source": [
        "# Further Downsize the symbol to 14 note types\n",
        "pitch_series12 = list(map(note_dict.get, bwv244_sop_pitch_whole))\n",
        "pitch_series22 = list(map(note_dict.get, bwv244_alto_pitch_whole))\n",
        "pitch_series32 = list(map(note_dict.get, bwv244_tenor_pitch_whole))\n",
        "pitch_series42 = list(map(note_dict.get, bwv244_bass_pitch_whole))\n",
        "\n",
        "# Write the 4 variables into one single csv\n",
        "with open('bwv244_notes.csv', mode='w') as csv_file:\n",
        "  writer = csv.writer(csv_file, delimiter=',', quotechar='\"', quoting=csv.QUOTE_MINIMAL)\n",
        "\n",
        "  for i in range(len(pitch_series12)):\n",
        "    writer.writerow([pitch_series12[i],pitch_series22[i],pitch_series32[i],pitch_series42[i]])"
      ],
      "execution_count": null,
      "outputs": []
    },
    {
      "cell_type": "markdown",
      "metadata": {
        "id": "YPMRyrTzzfUR"
      },
      "source": [
        "# Sequence extracting after transposing to D"
      ]
    },
    {
      "cell_type": "markdown",
      "metadata": {
        "id": "ZwrV9AJUzfUR"
      },
      "source": [
        "## Soprano"
      ]
    },
    {
      "cell_type": "code",
      "metadata": {
        "colab": {
          "base_uri": "https://localhost:8080/"
        },
        "id": "FRbs_aUmzfUR",
        "outputId": "f4cfa6cf-3179-4208-cb06-124c89daf0e0"
      },
      "source": [
        "bwv244_sop_pitch_arrays = []\n",
        "for bwv_part in bwv244_list:\n",
        "  piece = m21.corpus.parse(bwv_part)\n",
        "  sop = piece.parts[0]\n",
        "  pitch_array = streamToNoteArray(sop, transpose=True)\n",
        "  bwv244_sop_pitch_arrays.append(pitch_array)\n",
        "\n",
        "for i in bwv244_sop_pitch_arrays:\n",
        "  print(i.shape)\n",
        "\n",
        "bwv244_sop_pitch_whole = np.concatenate(np.array(bwv244_sop_pitch_arrays))\n",
        "print(\"Number of notes:\")\n",
        "print(bwv244_sop_pitch_whole.shape)\n",
        "bwv244_sop_pitch_whole_df = pd.DataFrame(bwv244_sop_pitch_whole)\n",
        "print(\"Notes that do appear:\")\n",
        "unique_sop, counts_sop = np.unique(bwv244_sop_pitch_whole, return_counts=True)\n",
        "print(unique_sop)\n",
        "print(\"with occurence:\")\n",
        "print(counts_sop)\n",
        "print(\"Notes that don't appear:\")\n",
        "print(np.setdiff1d(np.arange(0,129),unique_sop))"
      ],
      "execution_count": null,
      "outputs": [
        {
          "output_type": "stream",
          "text": [
            "(177,)\n",
            "(193,)\n",
            "(193,)\n",
            "(257,)\n",
            "(193,)\n",
            "(209,)\n",
            "(177,)\n",
            "(193,)\n",
            "(257,)\n",
            "(193,)\n",
            "(177,)\n",
            "(193,)\n",
            "(193,)\n",
            "Number of notes:\n",
            "(2605,)\n",
            "Notes that do appear:\n",
            "[ 55  57  58  59  60  61  62  64  65  66  67  69  70  71  72  73  74  76\n",
            "  77  79 128 129]\n",
            "with occurence:\n",
            "[   6   32   17    3   25    7   75   96   41   77   79   73   13   14\n",
            "   13    6   22   21   18    2   13 1952]\n",
            "Notes that don't appear:\n",
            "[  0   1   2   3   4   5   6   7   8   9  10  11  12  13  14  15  16  17\n",
            "  18  19  20  21  22  23  24  25  26  27  28  29  30  31  32  33  34  35\n",
            "  36  37  38  39  40  41  42  43  44  45  46  47  48  49  50  51  52  53\n",
            "  54  56  63  68  75  78  80  81  82  83  84  85  86  87  88  89  90  91\n",
            "  92  93  94  95  96  97  98  99 100 101 102 103 104 105 106 107 108 109\n",
            " 110 111 112 113 114 115 116 117 118 119 120 121 122 123 124 125 126 127]\n"
          ],
          "name": "stdout"
        }
      ]
    },
    {
      "cell_type": "markdown",
      "metadata": {
        "id": "CV5FcPX4zfUS"
      },
      "source": [
        "## Alto"
      ]
    },
    {
      "cell_type": "code",
      "metadata": {
        "colab": {
          "base_uri": "https://localhost:8080/"
        },
        "id": "AowL9iXtzfUS",
        "outputId": "591270d7-d617-4aac-ef93-995d75c52b8a"
      },
      "source": [
        "bwv244_alto_pitch_arrays = []\n",
        "for bwv_part in bwv244_list:\n",
        "  piece = m21.corpus.parse(bwv_part)\n",
        "  alto = piece.parts[1]\n",
        "  pitch_array = streamToNoteArray(alto, transpose=True)\n",
        "  bwv244_alto_pitch_arrays.append(pitch_array)\n",
        "\n",
        "for i in bwv244_alto_pitch_arrays:\n",
        "  print(i.shape)\n",
        "\n",
        "bwv244_alto_pitch_whole = np.concatenate(np.array(bwv244_alto_pitch_arrays))\n",
        "print(\"Number of notes:\")\n",
        "print(bwv244_alto_pitch_whole.shape)\n",
        "bwv244_alto_pitch_whole_df = pd.DataFrame(bwv244_alto_pitch_whole)\n",
        "print(\"Notes that do appear:\")\n",
        "unique_alto, counts_alto = np.unique(bwv244_alto_pitch_whole, return_counts=True)\n",
        "print(unique_alto)\n",
        "print(\"with occurence:\")\n",
        "print(counts_alto)\n",
        "print(\"Notes that don't appear:\")\n",
        "print(np.setdiff1d(np.arange(0,129),unique_alto))"
      ],
      "execution_count": null,
      "outputs": [
        {
          "output_type": "stream",
          "text": [
            "(177,)\n",
            "(193,)\n",
            "(193,)\n",
            "(257,)\n",
            "(193,)\n",
            "(209,)\n",
            "(177,)\n",
            "(193,)\n",
            "(257,)\n",
            "(193,)\n",
            "(177,)\n",
            "(193,)\n",
            "(193,)\n",
            "Number of notes:\n",
            "(2605,)\n",
            "Notes that do appear:\n",
            "[ 50  52  53  54  55  56  57  58  59  60  61  62  63  64  65  66  67  68\n",
            "  69  70  71  72  73  74 128 129]\n",
            "with occurence:\n",
            "[   1    4   25    2   28    2   47   11   19   18   29  122   10   97\n",
            "   26  114   92   12   58    4    9    1    2    2   13 1857]\n",
            "Notes that don't appear:\n",
            "[  0   1   2   3   4   5   6   7   8   9  10  11  12  13  14  15  16  17\n",
            "  18  19  20  21  22  23  24  25  26  27  28  29  30  31  32  33  34  35\n",
            "  36  37  38  39  40  41  42  43  44  45  46  47  48  49  51  75  76  77\n",
            "  78  79  80  81  82  83  84  85  86  87  88  89  90  91  92  93  94  95\n",
            "  96  97  98  99 100 101 102 103 104 105 106 107 108 109 110 111 112 113\n",
            " 114 115 116 117 118 119 120 121 122 123 124 125 126 127]\n"
          ],
          "name": "stdout"
        }
      ]
    },
    {
      "cell_type": "markdown",
      "metadata": {
        "id": "EEe2vdVCzfUT"
      },
      "source": [
        "## Tenor"
      ]
    },
    {
      "cell_type": "code",
      "metadata": {
        "colab": {
          "base_uri": "https://localhost:8080/"
        },
        "id": "EhnUKeT4zfUU",
        "outputId": "7e2bb3b2-a0e8-4982-e858-969b1d6135ef"
      },
      "source": [
        "bwv244_tenor_pitch_arrays = []\n",
        "for bwv_part in bwv244_list:\n",
        "  piece = m21.corpus.parse(bwv_part)\n",
        "  tenor = piece.parts[2]\n",
        "  pitch_array = streamToNoteArray(tenor, transpose=True)\n",
        "  bwv244_tenor_pitch_arrays.append(pitch_array)\n",
        "\n",
        "for i in bwv244_tenor_pitch_arrays:\n",
        "  print(i.shape)\n",
        "\n",
        "bwv244_tenor_pitch_whole = np.concatenate(np.array(bwv244_tenor_pitch_arrays))\n",
        "print(\"Number of notes:\")\n",
        "print(bwv244_tenor_pitch_whole.shape)\n",
        "bwv244_tenor_pitch_whole_df = pd.DataFrame(bwv244_tenor_pitch_whole)\n",
        "print(\"Notes that do appear:\")\n",
        "unique_tenor, counts_tenor = np.unique(bwv244_tenor_pitch_whole, return_counts=True)\n",
        "print(unique_tenor)\n",
        "print(\"with occurence:\")\n",
        "print(counts_tenor)\n",
        "print(\"Notes that don't appear:\")\n",
        "print(np.setdiff1d(np.arange(0,129),unique_tenor))"
      ],
      "execution_count": null,
      "outputs": [
        {
          "output_type": "stream",
          "text": [
            "(177,)\n",
            "(193,)\n",
            "(193,)\n",
            "(257,)\n",
            "(193,)\n",
            "(209,)\n",
            "(177,)\n",
            "(193,)\n",
            "(257,)\n",
            "(193,)\n",
            "(177,)\n",
            "(193,)\n",
            "(193,)\n",
            "Number of notes:\n",
            "(2605,)\n",
            "Notes that do appear:\n",
            "[ 43  45  46  47  48  49  50  51  52  53  54  55  56  57  58  59  60  61\n",
            "  62  64  65 128 129]\n",
            "with occurence:\n",
            "[   2    9    4   11   11   26   84    4  108   60   76  127   12  136\n",
            "    5   40   22    4   14    5    1   13 1831]\n",
            "Notes that don't appear:\n",
            "[  0   1   2   3   4   5   6   7   8   9  10  11  12  13  14  15  16  17\n",
            "  18  19  20  21  22  23  24  25  26  27  28  29  30  31  32  33  34  35\n",
            "  36  37  38  39  40  41  42  44  63  66  67  68  69  70  71  72  73  74\n",
            "  75  76  77  78  79  80  81  82  83  84  85  86  87  88  89  90  91  92\n",
            "  93  94  95  96  97  98  99 100 101 102 103 104 105 106 107 108 109 110\n",
            " 111 112 113 114 115 116 117 118 119 120 121 122 123 124 125 126 127]\n"
          ],
          "name": "stdout"
        }
      ]
    },
    {
      "cell_type": "markdown",
      "metadata": {
        "id": "DoqLsxr2zfUU"
      },
      "source": [
        "## Bass"
      ]
    },
    {
      "cell_type": "code",
      "metadata": {
        "colab": {
          "base_uri": "https://localhost:8080/"
        },
        "id": "x428Ka6UzfUU",
        "outputId": "c48945e9-d4e7-4c85-ba89-8bbb739bb07d"
      },
      "source": [
        "bwv244_bass_pitch_arrays = []\n",
        "for bwv_part in bwv244_list:\n",
        "  piece = m21.corpus.parse(bwv_part)\n",
        "  bass = piece.parts[3]\n",
        "  pitch_array = streamToNoteArray(bass, transpose=True)\n",
        "  bwv244_bass_pitch_arrays.append(pitch_array)\n",
        "\n",
        "for i in bwv244_bass_pitch_arrays:\n",
        "  print(i.shape)\n",
        "\n",
        "bwv244_bass_pitch_whole = np.concatenate(np.array(bwv244_bass_pitch_arrays))\n",
        "print(\"Number of notes:\")\n",
        "print(bwv244_bass_pitch_whole.shape)\n",
        "bwv244_bass_pitch_whole_df = pd.DataFrame(bwv244_bass_pitch_whole)\n",
        "print(\"Notes that do appear:\")\n",
        "unique_bass, counts_bass = np.unique(bwv244_bass_pitch_whole, return_counts=True)\n",
        "print(unique_bass)\n",
        "print(\"with occurence:\")\n",
        "print(counts_bass)\n",
        "print(\"Notes that don't appear:\")\n",
        "print(np.setdiff1d(np.arange(0,129),unique_bass))"
      ],
      "execution_count": null,
      "outputs": [
        {
          "output_type": "stream",
          "text": [
            "(177,)\n",
            "(193,)\n",
            "(193,)\n",
            "(257,)\n",
            "(193,)\n",
            "(209,)\n",
            "(177,)\n",
            "(193,)\n",
            "(257,)\n",
            "(193,)\n",
            "(177,)\n",
            "(193,)\n",
            "(193,)\n",
            "Number of notes:\n",
            "(2605,)\n",
            "Notes that do appear:\n",
            "[ 33  34  35  36  37  38  39  40  41  42  43  44  45  46  47  48  49  50\n",
            "  51  52  53  54  55  56  57  58  59  60  61  62 128 129]\n",
            "with occurence:\n",
            "[   5    1    1    6    5   29    1   22   27   22   41   12   89   29\n",
            "   47   28   32   87   10   64   30   44   31   12   36    6   12    3\n",
            "    1    3   13 1856]\n",
            "Notes that don't appear:\n",
            "[  0   1   2   3   4   5   6   7   8   9  10  11  12  13  14  15  16  17\n",
            "  18  19  20  21  22  23  24  25  26  27  28  29  30  31  32  63  64  65\n",
            "  66  67  68  69  70  71  72  73  74  75  76  77  78  79  80  81  82  83\n",
            "  84  85  86  87  88  89  90  91  92  93  94  95  96  97  98  99 100 101\n",
            " 102 103 104 105 106 107 108 109 110 111 112 113 114 115 116 117 118 119\n",
            " 120 121 122 123 124 125 126 127]\n"
          ],
          "name": "stdout"
        }
      ]
    },
    {
      "cell_type": "markdown",
      "metadata": {
        "id": "mSwVtvrHzfUV"
      },
      "source": [
        "## whole analysis"
      ]
    },
    {
      "cell_type": "code",
      "metadata": {
        "colab": {
          "base_uri": "https://localhost:8080/"
        },
        "id": "ez-SgnAzzfUV",
        "outputId": "d7324523-83f9-4b13-9224-ae2598733dec"
      },
      "source": [
        "all_notes2 = np.concatenate((bwv244_sop_pitch_whole,bwv244_alto_pitch_whole, \\\n",
        "                            bwv244_tenor_pitch_whole, bwv244_bass_pitch_whole))\n",
        "print(\"Number of notes:\")\n",
        "print(all_notes2.shape)\n",
        "all_notes2_df = pd.DataFrame(all_notes2)\n",
        "print(\"Notes that do appear:\")\n",
        "unique2, counts2 = np.unique(all_notes2, return_counts=True)\n",
        "print(unique2)\n",
        "print(\"with occurence:\")\n",
        "print(counts2)\n",
        "print(\"Notes that don't appear:\")\n",
        "print(np.setdiff1d(np.arange(0,129),unique2))"
      ],
      "execution_count": null,
      "outputs": [
        {
          "output_type": "stream",
          "text": [
            "Number of notes:\n",
            "(10420,)\n",
            "Notes that do appear:\n",
            "[ 33  34  35  36  37  38  39  40  41  42  43  44  45  46  47  48  49  50\n",
            "  51  52  53  54  55  56  57  58  59  60  61  62  63  64  65  66  67  68\n",
            "  69  70  71  72  73  74  76  77  79 128 129]\n",
            "with occurence:\n",
            "[   5    1    1    6    5   29    1   22   27   22   43   12   98   33\n",
            "   58   39   58  172   14  176  115  122  192   26  251   39   74   68\n",
            "   41  214   10  198   68  191  171   12  131   17   23   14    8   24\n",
            "   21   18    2   52 7496]\n",
            "Notes that don't appear:\n",
            "[  0   1   2   3   4   5   6   7   8   9  10  11  12  13  14  15  16  17\n",
            "  18  19  20  21  22  23  24  25  26  27  28  29  30  31  32  75  78  80\n",
            "  81  82  83  84  85  86  87  88  89  90  91  92  93  94  95  96  97  98\n",
            "  99 100 101 102 103 104 105 106 107 108 109 110 111 112 113 114 115 116\n",
            " 117 118 119 120 121 122 123 124 125 126 127]\n"
          ],
          "name": "stdout"
        }
      ]
    },
    {
      "cell_type": "code",
      "metadata": {
        "colab": {
          "base_uri": "https://localhost:8080/",
          "height": 331
        },
        "id": "LaWFGjcrzfUV",
        "outputId": "688a6154-e226-40a8-9813-62d188c6bfb2"
      },
      "source": [
        "print(\"Plot the relative occurences of each note:\")\n",
        "import matplotlib.pyplot as plt\n",
        "%matplotlib inline\n",
        "\n",
        "#plt.style.use('dark_background')\n",
        "plt.bar(unique2, counts2)\n",
        "plt.yscale('log')\n",
        "plt.xlabel('melody in midi number')\n",
        "plt.ylabel('occurences (log scale)')\n",
        "plt.title('Transposed to D')"
      ],
      "execution_count": null,
      "outputs": [
        {
          "output_type": "stream",
          "text": [
            "Plot the relative occurences of each note:\n"
          ],
          "name": "stdout"
        },
        {
          "output_type": "execute_result",
          "data": {
            "text/plain": [
              "Text(0.5, 1.0, 'Transposed to D')"
            ]
          },
          "metadata": {
            "tags": []
          },
          "execution_count": 70
        },
        {
          "output_type": "display_data",
          "data": {
            "image/png": "[encoded data removed]",
            "text/plain": [
              "<Figure size 432x288 with 1 Axes>"
            ]
          },
          "metadata": {
            "tags": [],
            "image/png": {
              "width": 387,
              "height": 277
            },
            "needs_background": "light"
          }
        }
      ]
    },
    {
      "cell_type": "code",
      "metadata": {
        "colab": {
          "base_uri": "https://localhost:8080/"
        },
        "id": "OU7xVeixtsrH",
        "outputId": "81bdc1ce-4cc8-4d5e-e287-7acf9cc6768f"
      },
      "source": [
        "unique2.shape"
      ],
      "execution_count": null,
      "outputs": [
        {
          "output_type": "execute_result",
          "data": {
            "text/plain": [
              "(47,)"
            ]
          },
          "metadata": {
            "tags": []
          },
          "execution_count": 71
        }
      ]
    },
    {
      "cell_type": "code",
      "metadata": {
        "id": "YxpH4RIOzfVw"
      },
      "source": [
        "pitch_original2 = unique2.tolist()\n",
        "pitch_sym2 = [i for i in range(47)]\n",
        "sym_dict2 = dict(zip(pitch_original2, pitch_sym2))"
      ],
      "execution_count": null,
      "outputs": []
    },
    {
      "cell_type": "code",
      "metadata": {
        "id": "RnBynOavuBPH",
        "colab": {
          "base_uri": "https://localhost:8080/"
        },
        "outputId": "4be1f043-9415-4316-9cf6-3c27b9a6c0be"
      },
      "source": [
        "sym_dict2"
      ],
      "execution_count": null,
      "outputs": [
        {
          "output_type": "execute_result",
          "data": {
            "text/plain": [
              "{33: 0,\n",
              " 34: 1,\n",
              " 35: 2,\n",
              " 36: 3,\n",
              " 37: 4,\n",
              " 38: 5,\n",
              " 39: 6,\n",
              " 40: 7,\n",
              " 41: 8,\n",
              " 42: 9,\n",
              " 43: 10,\n",
              " 44: 11,\n",
              " 45: 12,\n",
              " 46: 13,\n",
              " 47: 14,\n",
              " 48: 15,\n",
              " 49: 16,\n",
              " 50: 17,\n",
              " 51: 18,\n",
              " 52: 19,\n",
              " 53: 20,\n",
              " 54: 21,\n",
              " 55: 22,\n",
              " 56: 23,\n",
              " 57: 24,\n",
              " 58: 25,\n",
              " 59: 26,\n",
              " 60: 27,\n",
              " 61: 28,\n",
              " 62: 29,\n",
              " 63: 30,\n",
              " 64: 31,\n",
              " 65: 32,\n",
              " 66: 33,\n",
              " 67: 34,\n",
              " 68: 35,\n",
              " 69: 36,\n",
              " 70: 37,\n",
              " 71: 38,\n",
              " 72: 39,\n",
              " 73: 40,\n",
              " 74: 41,\n",
              " 76: 42,\n",
              " 77: 43,\n",
              " 79: 44,\n",
              " 128: 45,\n",
              " 129: 46}"
            ]
          },
          "metadata": {
            "tags": []
          },
          "execution_count": 73
        }
      ]
    },
    {
      "cell_type": "code",
      "metadata": {
        "colab": {
          "base_uri": "https://localhost:8080/"
        },
        "id": "NIskoYWOKmjD",
        "outputId": "08bc2099-be4b-4987-e8aa-d433a146f7d0"
      },
      "source": [
        "# 33-35, 36-47, 48-59, 60-71, 72-74,76,77,79,128,129\n",
        "note_sym2 = [i for i in range(9,12)]+[i for i in range(12)]+[i for i in range(12)]+ [i for i in range(12)] + [i for i in range(3)]+[4,5,7,12,13]\n",
        "print(len(note_sym2))\n",
        "note_dict2 = dict(zip(pitch_original2, note_sym2))"
      ],
      "execution_count": null,
      "outputs": [
        {
          "output_type": "stream",
          "text": [
            "47\n"
          ],
          "name": "stdout"
        }
      ]
    },
    {
      "cell_type": "code",
      "metadata": {
        "colab": {
          "base_uri": "https://localhost:8080/"
        },
        "id": "rWUbEZnUM0Gf",
        "outputId": "e3b63350-b353-496a-ba97-c7e888c7ea30"
      },
      "source": [
        "note_dict2"
      ],
      "execution_count": null,
      "outputs": [
        {
          "output_type": "execute_result",
          "data": {
            "text/plain": [
              "{33: 9,\n",
              " 34: 10,\n",
              " 35: 11,\n",
              " 36: 0,\n",
              " 37: 1,\n",
              " 38: 2,\n",
              " 39: 3,\n",
              " 40: 4,\n",
              " 41: 5,\n",
              " 42: 6,\n",
              " 43: 7,\n",
              " 44: 8,\n",
              " 45: 9,\n",
              " 46: 10,\n",
              " 47: 11,\n",
              " 48: 0,\n",
              " 49: 1,\n",
              " 50: 2,\n",
              " 51: 3,\n",
              " 52: 4,\n",
              " 53: 5,\n",
              " 54: 6,\n",
              " 55: 7,\n",
              " 56: 8,\n",
              " 57: 9,\n",
              " 58: 10,\n",
              " 59: 11,\n",
              " 60: 0,\n",
              " 61: 1,\n",
              " 62: 2,\n",
              " 63: 3,\n",
              " 64: 4,\n",
              " 65: 5,\n",
              " 66: 6,\n",
              " 67: 7,\n",
              " 68: 8,\n",
              " 69: 9,\n",
              " 70: 10,\n",
              " 71: 11,\n",
              " 72: 0,\n",
              " 73: 1,\n",
              " 74: 2,\n",
              " 76: 4,\n",
              " 77: 5,\n",
              " 79: 7,\n",
              " 128: 12,\n",
              " 129: 13}"
            ]
          },
          "metadata": {
            "tags": []
          },
          "execution_count": 75
        }
      ]
    },
    {
      "cell_type": "code",
      "metadata": {
        "id": "mEAm_UGxzfVw"
      },
      "source": [
        "pitch_series21 = list(map(sym_dict2.get, bwv244_sop_pitch_whole))\n",
        "pitch_series22 = list(map(sym_dict2.get, bwv244_alto_pitch_whole))\n",
        "pitch_series23 = list(map(sym_dict2.get, bwv244_tenor_pitch_whole))\n",
        "pitch_series24 = list(map(sym_dict2.get, bwv244_bass_pitch_whole))\n",
        "\n",
        "with open('bwv244_D.csv', mode='w') as csv_file:\n",
        "  writer = csv.writer(csv_file, delimiter=',', quotechar='\"', quoting=csv.QUOTE_MINIMAL)\n",
        "\n",
        "  for i in range(len(pitch_series21)):\n",
        "    writer.writerow([pitch_series21[i],pitch_series22[i],pitch_series23[i],pitch_series24[i]])"
      ],
      "execution_count": null,
      "outputs": []
    },
    {
      "cell_type": "code",
      "metadata": {
        "id": "DxpF3Tt6M8ot"
      },
      "source": [
        "pitch_series212 = list(map(note_dict2.get, bwv244_sop_pitch_whole))\n",
        "pitch_series222 = list(map(note_dict2.get, bwv244_alto_pitch_whole))\n",
        "pitch_series232 = list(map(note_dict2.get, bwv244_tenor_pitch_whole))\n",
        "pitch_series242 = list(map(note_dict2.get, bwv244_bass_pitch_whole))\n",
        "\n",
        "with open('bwv244_D_notes.csv', mode='w') as csv_file:\n",
        "  writer = csv.writer(csv_file, delimiter=',', quotechar='\"', quoting=csv.QUOTE_MINIMAL)\n",
        "\n",
        "  for i in range(len(pitch_series212)):\n",
        "    writer.writerow([pitch_series212[i],pitch_series222[i],pitch_series232[i],pitch_series242[i]])"
      ],
      "execution_count": null,
      "outputs": []
    }
  ]
}